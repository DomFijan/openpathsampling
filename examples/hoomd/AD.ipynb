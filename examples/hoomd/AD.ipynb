{
 "cells": [
  {
   "cell_type": "code",
   "execution_count": 1,
   "id": "f3c1182e",
   "metadata": {},
   "outputs": [],
   "source": [
    "import os\n",
    "\n",
    "import freud\n",
    "import hoomd\n",
    "import matplotlib\n",
    "import matplotlib.pyplot as plt\n",
    "import mdtraj\n",
    "import numpy as np\n",
    "import parmed as pmd\n",
    "import rowan\n",
    "import simtk.unit as unit\n",
    "from mbuild.formats.hoomd_forcefield import create_hoomd_forcefield\n",
    "from simtk.openmm import app\n",
    "\n",
    "import openpathsampling as paths\n",
    "import openpathsampling.engines.hoomd as ops_hoomd\n",
    "\n",
    "initial_pdb = os.path.join(\"..\", \"resources\", \"AD_initial_frame.pdb\")"
   ]
  },
  {
   "cell_type": "code",
   "execution_count": 2,
   "id": "f5e1bcb6",
   "metadata": {},
   "outputs": [],
   "source": [
    "forcefield = app.ForceField(\"amber96.xml\", \"tip3p.xml\")\n",
    "pdb = app.PDBFile(initial_pdb).topology\n",
    "system = forcefield.createSystem(\n",
    "    topology=pdb,\n",
    "    nonbondedMethod=app.PME,\n",
    "    nonbondedCutoff=1.0 * unit.nanometers,\n",
    "    constraints=app.HBonds,\n",
    "    rigidWater=True,\n",
    "    ewaldErrorTolerance=0.0005,\n",
    ")\n",
    "pmd_structure = pmd.openmm.load_topology(\n",
    "    topology=pdb,\n",
    "    system=system,\n",
    "    xyz=initial_pdb,\n",
    ")"
   ]
  },
  {
   "cell_type": "code",
   "execution_count": 3,
   "id": "07f42b63-c8a6-42ef-8109-dd5a87b945ca",
   "metadata": {},
   "outputs": [
    {
     "name": "stdout",
     "output_type": "stream",
     "text": [
      "{'ref_distance': 1.0, 'ref_mass': 1.0, 'ref_energy': 1.0}\n",
      "Processing LJ and QQ\n",
      "Processing 1-4 interactions, adjusting neighborlist exclusions\n",
      "Processing harmonic bonds\n",
      "Bond with no bondtype detected, setting coefficients to 0\n",
      "Bond with no bondtype detected, setting coefficients to 0\n",
      "Bond with no bondtype detected, setting coefficients to 0\n",
      "Bond with no bondtype detected, setting coefficients to 0\n",
      "Processing harmonic angles\n",
      "Processing periodic torsions\n",
      "dt=0.04091 kT=1.58976\n"
     ]
    }
   ],
   "source": [
    "# Set up HOOMD reference unit system: AKMA (Angstrom, Kilocalories/mol, Atomic mass unit)\n",
    "energy = unit.kilocalorie_per_mole\n",
    "length = unit.angstrom\n",
    "mass = unit.amu\n",
    "time = np.sqrt(1.0 * mass * length * length / energy)\n",
    "\n",
    "# parmed also uses the AKMA system\n",
    "ref_akma_units = dict(\n",
    "    ref_distance=1.0 * length / unit.angstrom,\n",
    "    ref_mass=1.0 * unit.amu / unit.amu,\n",
    "    ref_energy=1.0 * unit.kilocalorie_per_mole / energy,\n",
    ")\n",
    "r_cut = 1.0 * unit.nanometers / length\n",
    "\n",
    "print(ref_akma_units)\n",
    "\n",
    "snapshot, forcefield, ref_vals = create_hoomd_forcefield(\n",
    "    structure=pmd_structure,\n",
    "    **ref_akma_units,\n",
    "    r_cut=r_cut,\n",
    "    pppm_kwargs={\"Nx\": 24, \"Ny\": 24, \"Nz\": 24, \"order\": 6},\n",
    ")\n",
    "\n",
    "device = hoomd.device.auto_select()\n",
    "sim = hoomd.Simulation(device=device, seed=123)\n",
    "\n",
    "# Set up units for simulation kT and dt\n",
    "kT = (\n",
    "    800.0  # originally 500.0\n",
    "    * unit.constants.BOLTZMANN_CONSTANT_kB\n",
    "    * unit.kelvin\n",
    "    / energy\n",
    "    * unit.constants.AVOGADRO_CONSTANT_NA\n",
    ")\n",
    "dt = 2.0 * unit.femtosecond / time\n",
    "print(f\"{dt=:.5f}\", f\"{kT=:.5f}\")\n",
    "\n",
    "particle_filter = hoomd.filter.Rigid((\"center\", \"free\"))\n",
    "methods = [hoomd.md.methods.Langevin(filter=particle_filter, kT=kT)]\n",
    "sim.operations.integrator = hoomd.md.Integrator(\n",
    "    dt=dt, methods=methods, forces=forcefield\n",
    ")\n",
    "gsd_writer = hoomd.write.GSD(\n",
    "    \"dump.gsd\",\n",
    "    trigger=hoomd.trigger.Periodic(10),\n",
    "    mode=\"wb\",\n",
    "    dynamic=[\"property\", \"momentum\"],\n",
    ")\n",
    "sim.operations += gsd_writer\n",
    "thermo = hoomd.md.compute.ThermodynamicQuantities(filter=particle_filter)\n",
    "sim.operations += thermo"
   ]
  },
  {
   "cell_type": "code",
   "execution_count": 4,
   "id": "864f7422-0926-41b0-9122-fc7efb690cb2",
   "metadata": {},
   "outputs": [],
   "source": [
    "# To-do: perform energy minimization here"
   ]
  },
  {
   "cell_type": "code",
   "execution_count": 5,
   "id": "89b535f9-775b-4bd3-a897-0b942fb7ec43",
   "metadata": {},
   "outputs": [],
   "source": [
    "# Constrain hydrogen bonds in alanine dipeptide\n",
    "indices = np.arange(snapshot.particles.N)\n",
    "snapshot.constraints.N = 0\n",
    "box = freud.Box.from_box(snapshot.configuration.box)\n",
    "for H_type in (\"H1\", \"H2\", \"H3\"):\n",
    "    H_index = snapshot.particles.types.index(H_type)\n",
    "    H_ids = indices[snapshot.particles.typeid == H_index]\n",
    "    for H_id in H_ids:\n",
    "        for bond_ids in snapshot.bonds.group:\n",
    "            if H_id in bond_ids:\n",
    "                constraint_id = snapshot.constraints.N\n",
    "                snapshot.constraints.N += 1\n",
    "                snapshot.constraints.group[constraint_id] = bond_ids\n",
    "                positions = snapshot.particles.position[bond_ids]\n",
    "                bond_length = np.linalg.norm(box.wrap(positions[1] - positions[0]))\n",
    "                snapshot.constraints.value[constraint_id] = bond_length\n",
    "constrain = hoomd.md.constrain.Distance(tolerance=0.1)\n",
    "sim.operations.integrator.constraints.append(constrain)"
   ]
  },
  {
   "cell_type": "code",
   "execution_count": 6,
   "id": "b30cdb37-6f7b-4d3b-8357-881d9f38df07",
   "metadata": {},
   "outputs": [],
   "source": [
    "# Make water rigid\n",
    "water_O_index = snapshot.particles.types.index(\"O2\")\n",
    "water_H_index = snapshot.particles.types.index(\"H4\")\n",
    "indices = np.arange(snapshot.particles.N)\n",
    "water_O_ids = indices[snapshot.particles.typeid == water_O_index]\n",
    "water_H_ids = indices[snapshot.particles.typeid == water_H_index]\n",
    "snapshot.particles.body[water_O_ids] = water_O_ids\n",
    "snapshot.particles.body[water_H_ids] = np.repeat(water_O_ids, 2)\n",
    "box = freud.Box.from_box(snapshot.configuration.box)\n",
    "\n",
    "bond_lengths = []\n",
    "bond_angles = []\n",
    "for O in water_O_ids:\n",
    "    positions = snapshot.particles.position[O : O + 3]\n",
    "    # print(positions)\n",
    "    OH1 = box.wrap(positions[1] - positions[0])\n",
    "    OH1_length = np.linalg.norm(OH1)\n",
    "    bond_lengths.append(OH1_length)\n",
    "\n",
    "    OH2 = box.wrap(positions[2] - positions[0])\n",
    "    OH2_length = np.linalg.norm(OH2)\n",
    "    bond_lengths.append(OH2_length)\n",
    "\n",
    "    HOH_angle = np.arccos(np.dot(OH1 / OH1_length, OH2 / OH2_length))\n",
    "    bond_angles.append(HOH_angle)\n",
    "\n",
    "# Create a rigid water molecule in the x-y plane, symmetric about the x axis.\n",
    "OH_length = np.mean(bond_lengths)\n",
    "HOH_angle = np.mean(bond_angles)\n",
    "OH1_rigid_position = OH_length * np.array(\n",
    "    [np.cos(HOH_angle / 2), np.sin(HOH_angle / 2), 0]\n",
    ")\n",
    "OH2_rigid_position = OH_length * np.array(\n",
    "    [np.cos(HOH_angle / 2), -np.sin(HOH_angle / 2), 0]\n",
    ")\n",
    "H_charge = np.mean(snapshot.particles.charge[water_H_ids])\n",
    "O_mass = np.mean(snapshot.particles.mass[water_O_ids])\n",
    "H_mass = np.mean(snapshot.particles.mass[water_H_ids])\n",
    "rigid_body_positions = np.array([[0, 0, 0], OH1_rigid_position, OH2_rigid_position])\n",
    "moment_of_inertia = np.zeros((3, 3))\n",
    "for m, r in zip((O_mass, H_mass, H_mass), rigid_body_positions):\n",
    "    moment_of_inertia += m * (np.eye(3) * np.dot(r, r) - np.outer(r, r))\n",
    "# Ensure that the inertia tensor is diagonal\n",
    "assert (\n",
    "    np.count_nonzero(moment_of_inertia - np.diag(np.diagonal(moment_of_inertia))) == 0\n",
    ")\n",
    "moment_of_inertia = np.diag(moment_of_inertia)\n",
    "water_mass = np.sum((O_mass, H_mass, H_mass))\n",
    "\n",
    "# Assign rigid body parameters to each water oxygen\n",
    "for O in water_O_ids:\n",
    "    positions = snapshot.particles.position[O : O + 3]\n",
    "    OH1 = box.wrap(positions[1] - positions[0])\n",
    "    OH2 = box.wrap(positions[2] - positions[0])\n",
    "    target_positions = np.array([[0, 0, 0], OH1, OH2])\n",
    "    rotation, translation = rowan.mapping.davenport(\n",
    "        rigid_body_positions, target_positions\n",
    "    )\n",
    "    assert np.isclose(np.linalg.norm(translation), 0, atol=1e-2)\n",
    "    snapshot.particles.orientation[O] = rotation\n",
    "    snapshot.particles.moment_inertia[O] = moment_of_inertia\n",
    "    snapshot.particles.mass[O] = water_mass\n",
    "\n",
    "rigid = hoomd.md.constrain.Rigid()\n",
    "rigid.body[\"O2\"] = {\n",
    "    \"constituent_types\": [\"H4\", \"H4\"],\n",
    "    \"positions\": [OH1_rigid_position, OH2_rigid_position],\n",
    "    \"orientations\": [(1.0, 0.0, 0.0, 0.0), (1.0, 0.0, 0.0, 0.0)],\n",
    "    \"charges\": [H_charge, H_charge],\n",
    "    \"diameters\": [1.0, 1.0],\n",
    "}\n",
    "sim.operations.integrator.rigid = rigid"
   ]
  },
  {
   "cell_type": "code",
   "execution_count": 7,
   "id": "62368295-bfc7-4390-a4fd-2201df033415",
   "metadata": {},
   "outputs": [],
   "source": [
    "sim.create_state_from_snapshot(snapshot)\n",
    "sim.state.thermalize_particle_momenta(filter=particle_filter, kT=kT)\n",
    "hoomd.write.GSD.write(sim.state, \"init.gsd\")"
   ]
  },
  {
   "cell_type": "raw",
   "id": "ab4ea38a-6302-489e-ac40-a571c86fc66b",
   "metadata": {},
   "source": [
    "# Test for measuring energy\n",
    "print(\"step\", \"kT\", \"PE\", \"KE\", \"Total E\", sep=\"\\t\")\n",
    "for _ in range(100):\n",
    "    sim.run(100)\n",
    "    print(\n",
    "        sim.timestep,\n",
    "        thermo.kinetic_temperature,\n",
    "        thermo.potential_energy,\n",
    "        thermo.kinetic_energy,\n",
    "        thermo.potential_energy + thermo.kinetic_energy,\n",
    "        sep=\"\\t\",\n",
    "    )"
   ]
  },
  {
   "cell_type": "code",
   "execution_count": 8,
   "id": "a14ee9f7",
   "metadata": {},
   "outputs": [],
   "source": [
    "engine_options = {\"n_frames_max\": 2000, \"n_steps_per_frame\": 10}\n",
    "engine = ops_hoomd.Engine(\n",
    "    simulation=sim,\n",
    "    options=engine_options,\n",
    ")"
   ]
  },
  {
   "cell_type": "code",
   "execution_count": 9,
   "id": "4ec31e49-74ae-4518-982b-8236f7636f81",
   "metadata": {},
   "outputs": [],
   "source": [
    "# define the CVs\n",
    "mdtraj_topology = mdtraj.load(initial_pdb).topology\n",
    "mdtraj_topology = paths.engines.MDTrajTopology(mdtraj_topology)\n",
    "psi = paths.MDTrajFunctionCV(\n",
    "    \"psi\", mdtraj.compute_dihedrals, topology=mdtraj_topology, indices=[[6, 8, 14, 16]]\n",
    ").enable_diskcache()\n",
    "phi = paths.MDTrajFunctionCV(\n",
    "    \"phi\", mdtraj.compute_dihedrals, topology=mdtraj_topology, indices=[[4, 6, 8, 14]]\n",
    ").enable_diskcache()"
   ]
  },
  {
   "cell_type": "code",
   "execution_count": 10,
   "id": "1f0aa45b-528a-4811-a3c4-c5fec4a7ddb5",
   "metadata": {},
   "outputs": [],
   "source": [
    "# define the states\n",
    "deg = 180.0 / np.pi\n",
    "C_7eq = (\n",
    "    paths.PeriodicCVDefinedVolume(\n",
    "        phi,\n",
    "        lambda_min=-180 / deg,\n",
    "        lambda_max=0 / deg,\n",
    "        period_min=-np.pi,\n",
    "        period_max=np.pi,\n",
    "    )\n",
    "    & paths.PeriodicCVDefinedVolume(\n",
    "        psi,\n",
    "        lambda_min=100 / deg,\n",
    "        lambda_max=200 / deg,\n",
    "        period_min=-np.pi,\n",
    "        period_max=np.pi,\n",
    "    )\n",
    ").named(\"C_7eq\")\n",
    "# similarly, without bothering with the labels:\n",
    "alpha_R = (\n",
    "    paths.PeriodicCVDefinedVolume(phi, -180 / deg, 0 / deg, -np.pi, np.pi)\n",
    "    & paths.PeriodicCVDefinedVolume(psi, -100 / deg, 0 / deg, -np.pi, np.pi)\n",
    ").named(\"alpha_R\")"
   ]
  },
  {
   "cell_type": "code",
   "execution_count": 11,
   "id": "96fce349-49ef-4c5f-bd1d-59c48e28a5ee",
   "metadata": {},
   "outputs": [
    {
     "name": "stdout",
     "output_type": "stream",
     "text": [
      "Ran 744 frames. Found states [alpha_R,C_7eq]. Looking for [].\n"
     ]
    }
   ],
   "source": [
    "visit_all = paths.VisitAllStatesEnsemble([C_7eq, alpha_R])\n",
    "trajectory = engine.generate(engine.current_snapshot, [visit_all.can_append])"
   ]
  },
  {
   "cell_type": "code",
   "execution_count": 12,
   "id": "cc57eace-8ec6-4b07-8d55-e09849ad7e73",
   "metadata": {},
   "outputs": [],
   "source": [
    "def make_phi_psi_figure():\n",
    "    fig, ax = plt.subplots(figsize=(3, 3), dpi=150)\n",
    "    ax.set_xlim(-np.pi, np.pi)\n",
    "    ax.set_ylim(-np.pi, np.pi)\n",
    "    ax.set_xlabel(\"$\\\\phi$\")\n",
    "    ax.set_ylabel(\"$\\\\psi$\")\n",
    "    ax.add_patch(\n",
    "        matplotlib.patches.Rectangle(\n",
    "            (-np.pi, 100 / deg),\n",
    "            np.pi,\n",
    "            180 / deg,\n",
    "            alpha=0.1,\n",
    "            label=\"$C_7^{eq}$ volume\",\n",
    "            facecolor=\"b\",\n",
    "        )\n",
    "    )\n",
    "    ax.add_patch(\n",
    "        matplotlib.patches.Rectangle(\n",
    "            (-np.pi, -np.pi),\n",
    "            np.pi,\n",
    "            200 / deg % np.pi,\n",
    "            alpha=0.1,\n",
    "            label=None,\n",
    "            facecolor=\"b\",\n",
    "        )\n",
    "    )\n",
    "    ax.add_patch(\n",
    "        matplotlib.patches.Rectangle(\n",
    "            (-np.pi, -100 / deg),\n",
    "            np.pi,\n",
    "            100 / deg,\n",
    "            alpha=0.1,\n",
    "            label=\"$\\\\alpha_R$ volume\",\n",
    "            facecolor=\"r\",\n",
    "        )\n",
    "    )\n",
    "    for axis in (ax.xaxis, ax.yaxis):\n",
    "        axis.set_major_locator(\n",
    "            matplotlib.ticker.FixedLocator([-np.pi, -np.pi / 2, 0, np.pi / 2, np.pi])\n",
    "        )\n",
    "        axis.set_major_formatter(\n",
    "            matplotlib.ticker.FixedFormatter(\n",
    "                [\"$-\\\\pi$\", \"$-\\\\pi/2$\", \"$0$\", \"$\\\\pi/2$\", \"$\\\\pi$\"]\n",
    "            )\n",
    "        )\n",
    "    ax.legend()\n",
    "    return fig, ax"
   ]
  },
  {
   "cell_type": "markdown",
   "id": "a3b426bd-179f-4a0c-a86d-98477c7b1ddd",
   "metadata": {},
   "source": [
    "## Plotting the trajectory"
   ]
  },
  {
   "cell_type": "code",
   "execution_count": 13,
   "id": "997c0880-7878-414b-a8b1-44e32178f821",
   "metadata": {},
   "outputs": [],
   "source": [
    "# create a network so we can use its ensemble to obtain an initial trajectory\n",
    "# use all-to-all because initial traj can be A->B or B->A; will be reversed\n",
    "tmp_network = paths.TPSNetwork.from_states_all_to_all([C_7eq, alpha_R])"
   ]
  },
  {
   "cell_type": "code",
   "execution_count": 14,
   "id": "3babc044-5382-4a56-9882-b27961ace807",
   "metadata": {},
   "outputs": [
    {
     "name": "stdout",
     "output_type": "stream",
     "text": [
      "[Trajectory[9]]\n"
     ]
    }
   ],
   "source": [
    "# take the subtrajectory matching the ensemble (only one ensemble, only one subtraj)\n",
    "subtrajectories = []\n",
    "for ens in tmp_network.analysis_ensembles:\n",
    "    subtrajectories += ens.split(trajectory)\n",
    "print(subtrajectories)"
   ]
  },
  {
   "cell_type": "code",
   "execution_count": 15,
   "id": "915697a5-1a3d-4b33-9776-fd6d5e3dc3f8",
   "metadata": {},
   "outputs": [
    {
     "data": {
      "image/png": "[encoded data removed]",
      "text/plain": [
       "<Figure size 450x450 with 1 Axes>"
      ]
     },
     "metadata": {
      "needs_background": "light"
     },
     "output_type": "display_data"
    }
   ],
   "source": [
    "fig, ax = make_phi_psi_figure()\n",
    "ax.plot(phi(trajectory), psi(trajectory), \"k.\", label=\"All snapshots\")\n",
    "ax.plot(phi(subtrajectories[0]), psi(subtrajectories[0]), \"r\", label=\"Subtrajectory\")\n",
    "ax.legend()\n",
    "plt.show()"
   ]
  },
  {
   "cell_type": "markdown",
   "id": "7c5288a8-758d-424d-a7f0-cab9d374f161",
   "metadata": {},
   "source": [
    "## Setting up the normal temperature engine\n",
    "\n",
    "We'll create another engine that uses a 300K integrator, and equilibrate to a 300K path from the 500K path."
   ]
  },
  {
   "cell_type": "code",
   "execution_count": 16,
   "id": "d5dc3782-5915-4879-896f-789bfa4e368a",
   "metadata": {},
   "outputs": [],
   "source": [
    "normal_T = 300\n",
    "kT = (\n",
    "    normal_T\n",
    "    * unit.constants.BOLTZMANN_CONSTANT_kB\n",
    "    * unit.kelvin\n",
    "    / energy\n",
    "    * unit.constants.AVOGADRO_CONSTANT_NA\n",
    ")\n",
    "\n",
    "engine.simulation.operations.integrator.methods[0].kT = kT"
   ]
  },
  {
   "cell_type": "markdown",
   "id": "aa645780-2856-4b84-93d6-069bdb6850ce",
   "metadata": {},
   "source": [
    "## Using TPS to equilibrate\n",
    "\n",
    "This is, again, a simple path sampling setup. We use the same `TPSNetwork` we'll use later, and only shooting moves. One the initial conditions are correctly set up, we run one step at a time until the initial trajectory is decorrelated.\n",
    "\n",
    "This setup of a path sampler always consists of defining a `network` and a `move_scheme`. See toy model notebooks for further discussion."
   ]
  },
  {
   "cell_type": "code",
   "execution_count": 17,
   "id": "22b4e04b-5b3a-4cbb-acea-03f1cf64b078",
   "metadata": {},
   "outputs": [],
   "source": [
    "network = paths.TPSNetwork(initial_states=C_7eq, final_states=alpha_R).named(\n",
    "    \"tps_network\"\n",
    ")\n",
    "scheme = paths.OneWayShootingMoveScheme(\n",
    "    network, selector=paths.UniformSelector(), engine=engine\n",
    ").named(\"equil_scheme\")"
   ]
  },
  {
   "cell_type": "markdown",
   "id": "4ca50d9b-9aff-49c9-9191-6c8970991b17",
   "metadata": {},
   "source": [
    "The move scheme's `initial_conditions_from_trajectories` method will take whatever input you give it and try to generate valid initial conditions. This includes looking for subtrajectories that satisfy the ensembles you're sampling, as well as reversing the trajectory. If it succeeds, you'll see the message \"No missing ensembles. No extra ensembles.\" It's also a good practice to use `scheme.assert_initial_conditions` to ensure that your initial conditions are valid. This will halt a script if the initial conditions are not valid."
   ]
  },
  {
   "cell_type": "code",
   "execution_count": 18,
   "id": "e1f5e68c-e490-459f-a7b8-05c599e5e1c3",
   "metadata": {
    "scrolled": true
   },
   "outputs": [
    {
     "name": "stdout",
     "output_type": "stream",
     "text": [
      "No missing ensembles.\n",
      "No extra ensembles.\n"
     ]
    }
   ],
   "source": [
    "# make subtrajectories into initial conditions (trajectories become a sampleset)\n",
    "initial_conditions = scheme.initial_conditions_from_trajectories(subtrajectories)"
   ]
  },
  {
   "cell_type": "code",
   "execution_count": 19,
   "id": "76b40b61-32d0-4a5d-a4b3-174c2cad1272",
   "metadata": {},
   "outputs": [],
   "source": [
    "# check that initial conditions are valid and complete (raise AssertionError otherwise)\n",
    "scheme.assert_initial_conditions(initial_conditions)"
   ]
  },
  {
   "cell_type": "markdown",
   "id": "e2dec74d-6c2d-412e-8e9a-7041a05edae6",
   "metadata": {},
   "source": [
    "We can create a `StepVisualizer2D`, which plays the simulation as it is running. It requires CVs for the $x$ direction and the $y$ direction, as well as bounds of the plot. You can set the `background` attribute to an existing matplotlib `Figure`, and the simulation will plot on top of that. See the toy model MSTIS example for an example of that.\n",
    "\n",
    "This isn't necessary, and isn't even a useful for long simulations (which typically won't be in an interactive notebook), but it can be fun!"
   ]
  },
  {
   "cell_type": "code",
   "execution_count": 20,
   "id": "6892310e-e685-4454-9081-c4899e30b0e1",
   "metadata": {},
   "outputs": [],
   "source": [
    "sampler = paths.PathSampling(\n",
    "    storage=paths.Storage(\"ad_tps_equil.nc\", \"w\", template=None),\n",
    "    move_scheme=scheme,\n",
    "    sample_set=initial_conditions,\n",
    ")"
   ]
  },
  {
   "cell_type": "code",
   "execution_count": 21,
   "id": "ac1c535f-fa27-45c8-a0e2-a918ae64d153",
   "metadata": {},
   "outputs": [
    {
     "data": {
      "text/plain": [
       "True"
      ]
     },
     "execution_count": 21,
     "metadata": {},
     "output_type": "execute_result"
    }
   ],
   "source": [
    "# initially, these trajectories are correlated (actually, identical)\n",
    "# once decorrelated, we have a (somewhat) reasonable 300K trajectory\n",
    "initial_conditions[0].trajectory.is_correlated(sampler.sample_set[0].trajectory)"
   ]
  },
  {
   "cell_type": "code",
   "execution_count": 22,
   "id": "09647bcc-9798-4030-8cc0-704ba0a1f833",
   "metadata": {},
   "outputs": [
    {
     "name": "stdout",
     "output_type": "stream",
     "text": [
      "notice(2): charge.pppm: RMS error: 0.000492026\n",
      "Step 13: All trajectories decorrelated!\n"
     ]
    }
   ],
   "source": [
    "sampler.run_until_decorrelated()"
   ]
  },
  {
   "cell_type": "code",
   "execution_count": 23,
   "id": "59ebaf11-8229-4523-819c-e8c1b71f29f0",
   "metadata": {},
   "outputs": [
    {
     "data": {
      "image/png": "[encoded data removed]",
      "text/plain": [
       "<Figure size 450x450 with 1 Axes>"
      ]
     },
     "metadata": {
      "needs_background": "light"
     },
     "output_type": "display_data"
    }
   ],
   "source": [
    "fig, ax = make_phi_psi_figure()\n",
    "traj = sampler.sample_set[0].trajectory\n",
    "ax.plot(phi(traj), psi(traj), \"k.\")\n",
    "ax.plot(phi(traj), psi(traj), \"r\", label=f\"{normal_T} K\")\n",
    "ax.legend()\n",
    "plt.show()"
   ]
  },
  {
   "cell_type": "code",
   "execution_count": 24,
   "id": "b0eb9e2a-2412-4886-9aed-02935acb5f53",
   "metadata": {},
   "outputs": [
    {
     "data": {
      "text/plain": [
       "False"
      ]
     },
     "execution_count": 24,
     "metadata": {},
     "output_type": "execute_result"
    }
   ],
   "source": [
    "# now we have decorrelated: no frames are in common\n",
    "initial_conditions[0].trajectory.is_correlated(sampler.sample_set[0].trajectory)"
   ]
  },
  {
   "cell_type": "code",
   "execution_count": 25,
   "id": "42d7f706-2aef-4203-a218-a6050ed5f849",
   "metadata": {},
   "outputs": [
    {
     "name": "stdout",
     "output_type": "stream",
     "text": [
      "Working on Monte Carlo cycle number 22\n",
      "Running for 14 seconds -  1.60 seconds per step\n",
      "Estimated time remaining: 1 second\n",
      "notice(2): charge.pppm: RMS error: 0.000492026\n",
      "DONE! Completed 22 Monte Carlo cycles.\n"
     ]
    }
   ],
   "source": [
    "# run an extra 10 to decorrelate a little further\n",
    "sampler.run(10)"
   ]
  },
  {
   "cell_type": "code",
   "execution_count": 26,
   "id": "a2741c43-8403-42d1-b7e4-9c145cf2155e",
   "metadata": {},
   "outputs": [
    {
     "data": {
      "image/png": "[encoded data removed]",
      "text/plain": [
       "<Figure size 450x450 with 1 Axes>"
      ]
     },
     "metadata": {
      "needs_background": "light"
     },
     "output_type": "display_data"
    }
   ],
   "source": [
    "fig, ax = make_phi_psi_figure()\n",
    "traj = sampler.sample_set[0].trajectory\n",
    "ax.plot(phi(traj), psi(traj), \"k.\")\n",
    "ax.plot(phi(traj), psi(traj), \"r\", label=f\"{normal_T} K sampled\")\n",
    "ax.legend()\n",
    "plt.show()"
   ]
  },
  {
   "cell_type": "code",
   "execution_count": 27,
   "id": "9b7ad184-746f-47d1-b85a-20ead5f60ff3",
   "metadata": {},
   "outputs": [],
   "source": [
    "sampler.storage.close()"
   ]
  }
 ],
 "metadata": {
  "kernelspec": {
   "display_name": "Python 3 (ipykernel)",
   "language": "python",
   "name": "python3"
  },
  "language_info": {
   "codemirror_mode": {
    "name": "ipython",
    "version": 3
   },
   "file_extension": ".py",
   "mimetype": "text/x-python",
   "name": "python",
   "nbconvert_exporter": "python",
   "pygments_lexer": "ipython3",
   "version": "3.8.10"
  }
 },
 "nbformat": 4,
 "nbformat_minor": 5
}
