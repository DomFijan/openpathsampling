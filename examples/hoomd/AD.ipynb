{
 "cells": [
  {
   "cell_type": "code",
   "execution_count": 1,
   "id": "f3c1182e",
   "metadata": {},
   "outputs": [],
   "source": [
    "import os\n",
    "\n",
    "import foyer\n",
    "import hoomd\n",
    "import mbuild as mb\n",
    "import numpy as np\n",
    "import openmmtools  # a library of additions that are not included in the OpenMM core\n",
    "import parmed as pmd\n",
    "import simtk.openmm as mm\n",
    "import simtk.unit as unit\n",
    "from simtk.openmm import app\n",
    "\n",
    "import openpathsampling as paths\n",
    "\n",
    "import openpathsampling.engines.hoomd as ops_hoomd\n",
    "\n",
    "initial_pdb = os.path.join(\"..\", \"resources\", \"AD_initial_frame.pdb\")"
   ]
  },
  {
   "cell_type": "code",
   "execution_count": 2,
   "id": "f5e1bcb6",
   "metadata": {},
   "outputs": [],
   "source": [
    "forcefield = app.ForceField(\"amber96.xml\", \"tip3p.xml\")\n",
    "pdb = app.PDBFile(initial_pdb).topology\n",
    "system = forcefield.createSystem(\n",
    "    topology=pdb,\n",
    "    nonbondedMethod=app.PME,\n",
    "    nonbondedCutoff=1.0 * unit.nanometers,\n",
    "    constraints=app.HBonds,\n",
    "    rigidWater=True,\n",
    "    ewaldErrorTolerance=0.0005,\n",
    ")\n",
    "pmd_structure = pmd.openmm.load_topology(\n",
    "    topology=pdb,\n",
    "    system=system,\n",
    "    xyz=initial_pdb,\n",
    ")"
   ]
  },
  {
   "cell_type": "code",
   "execution_count": 3,
   "id": "07f42b63-c8a6-42ef-8109-dd5a87b945ca",
   "metadata": {},
   "outputs": [
    {
     "name": "stdout",
     "output_type": "stream",
     "text": [
      "Processing LJ and QQ\n",
      "Processing 1-4 interactions, adjusting neighborlist exclusions\n",
      "Processing harmonic bonds\n",
      "Bond with no bondtype detected, setting coefficients to 0\n",
      "Bond with no bondtype detected, setting coefficients to 0\n",
      "Bond with no bondtype detected, setting coefficients to 0\n",
      "Bond with no bondtype detected, setting coefficients to 0\n",
      "Processing harmonic angles\n",
      "Processing periodic torsions\n",
      "dt=0.04091 kT=0.99360\n"
     ]
    }
   ],
   "source": [
    "from mbuild.formats.hoomd_forcefield import create_hoomd_forcefield\n",
    "\n",
    "# Convert OpenMM units to units expected by mbuild\n",
    "snapshot, forcefield, ref_vals = create_hoomd_forcefield(\n",
    "    structure=pmd_structure,\n",
    "    ref_distance=0.1,  # angstrom to nm\n",
    "    ref_mass=1.0,  # amu in both systems\n",
    "    ref_energy=1 / 4.184,  # kJ/mol to kcal/mol\n",
    "    pppm_kwargs={\"Nx\": 64, \"Ny\": 64, \"Nz\": 64, \"order\": 6},\n",
    ")\n",
    "device = hoomd.device.auto_select()\n",
    "sim = hoomd.Simulation(device=device, seed=123)\n",
    "sim.create_state_from_snapshot(snapshot)\n",
    "\n",
    "# Set up units for simulation kT and dt\n",
    "energy = unit.kilocalorie_per_mole\n",
    "length = unit.angstrom\n",
    "mass = unit.amu\n",
    "time = np.sqrt(1 * mass * length * length / energy)\n",
    "kT = (\n",
    "    500.0\n",
    "    * unit.constants.BOLTZMANN_CONSTANT_kB\n",
    "    * unit.kelvin\n",
    "    / energy\n",
    "    * unit.constants.AVOGADRO_CONSTANT_NA\n",
    ")\n",
    "dt = 2.0 * unit.femtosecond / time\n",
    "print(f\"{dt=:.5f}\", f\"{kT=:.5f}\")\n",
    "methods = [hoomd.md.methods.Langevin(filter=hoomd.filter.All(), kT=kT)]\n",
    "sim.operations.integrator = hoomd.md.Integrator(\n",
    "    dt=dt, methods=methods, forces=forcefield\n",
    ")\n",
    "hoomd.write.GSD.write(sim.state, \"init.gsd\")\n",
    "gsd_writer = hoomd.write.GSD(\"dump.gsd\", trigger=hoomd.trigger.Periodic(1), mode=\"wb\")\n",
    "sim.operations += gsd_writer"
   ]
  },
  {
   "cell_type": "code",
   "execution_count": 4,
   "id": "280c3e57-35e0-4a9c-8cee-55ff882ab426",
   "metadata": {},
   "outputs": [],
   "source": [
    "#sim.run(1000)"
   ]
  },
  {
   "cell_type": "code",
   "execution_count": 5,
   "id": "a14ee9f7",
   "metadata": {},
   "outputs": [],
   "source": [
    "engine_options = {\"n_frames_max\": 2000, \"n_steps_per_frame\": 10}\n",
    "engine = ops_hoomd.Engine(\n",
    "    simulation=sim,\n",
    "    options=engine_options,\n",
    ")"
   ]
  },
  {
   "cell_type": "code",
   "execution_count": 6,
   "id": "cfffdd22",
   "metadata": {},
   "outputs": [
    {
     "data": {
      "text/plain": [
       "<openpathsampling.engines.hoomd.snapshot.Snapshot at 0x7fc2b6ac17f0>"
      ]
     },
     "execution_count": 6,
     "metadata": {},
     "output_type": "execute_result"
    }
   ],
   "source": [
    "engine.current_snapshot"
   ]
  },
  {
   "cell_type": "code",
   "execution_count": 7,
   "id": "7cb1f78f-010f-4d45-8e3c-c7dcb4e6c21e",
   "metadata": {},
   "outputs": [
    {
     "data": {
      "text/plain": [
       "<hoomd.simulation.Simulation at 0x7fc2b70f1100>"
      ]
     },
     "execution_count": 7,
     "metadata": {},
     "output_type": "execute_result"
    }
   ],
   "source": [
    "engine.simulation"
   ]
  }
 ],
 "metadata": {
  "kernelspec": {
   "display_name": "Python 3 (ipykernel)",
   "language": "python",
   "name": "python3"
  },
  "language_info": {
   "codemirror_mode": {
    "name": "ipython",
    "version": 3
   },
   "file_extension": ".py",
   "mimetype": "text/x-python",
   "name": "python",
   "nbconvert_exporter": "python",
   "pygments_lexer": "ipython3",
   "version": "3.8.10"
  }
 },
 "nbformat": 4,
 "nbformat_minor": 5
}
